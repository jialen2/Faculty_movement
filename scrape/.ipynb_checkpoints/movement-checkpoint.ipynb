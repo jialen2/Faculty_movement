{
 "cells": [
  {
   "cell_type": "code",
   "execution_count": 12,
   "id": "31d66dd7",
   "metadata": {},
   "outputs": [
    {
     "ename": "NameError",
     "evalue": "name '__file__' is not defined",
     "output_type": "error",
     "traceback": [
      "\u001b[0;31m---------------------------------------------------------------------------\u001b[0m",
      "\u001b[0;31mNameError\u001b[0m                                 Traceback (most recent call last)",
      "Input \u001b[0;32mIn [12]\u001b[0m, in \u001b[0;36m<module>\u001b[0;34m\u001b[0m\n\u001b[1;32m      2\u001b[0m \u001b[38;5;28;01mimport\u001b[39;00m \u001b[38;5;21;01mnetworkx\u001b[39;00m \u001b[38;5;28;01mas\u001b[39;00m \u001b[38;5;21;01mnx\u001b[39;00m\n\u001b[1;32m      3\u001b[0m G \u001b[38;5;241m=\u001b[39m nx\u001b[38;5;241m.\u001b[39mGraph()\n\u001b[0;32m----> 4\u001b[0m file_path \u001b[38;5;241m=\u001b[39m os\u001b[38;5;241m.\u001b[39mpath\u001b[38;5;241m.\u001b[39mdirname(os\u001b[38;5;241m.\u001b[39mpath\u001b[38;5;241m.\u001b[39mrealpath(\u001b[38;5;18;43m__file__\u001b[39;49m))\n\u001b[1;32m      6\u001b[0m \u001b[38;5;28;01mdef\u001b[39;00m \u001b[38;5;21madd_node\u001b[39m(node_name):\n\u001b[1;32m      7\u001b[0m     \u001b[38;5;28;01mif\u001b[39;00m node_name \u001b[38;5;129;01mnot\u001b[39;00m \u001b[38;5;129;01min\u001b[39;00m G:\n",
      "\u001b[0;31mNameError\u001b[0m: name '__file__' is not defined"
     ]
    }
   ],
   "source": [
    "import os, csv\n",
    "import networkx as nx\n",
    "G = nx.Graph()\n",
    "file_path = os.path.abspath('')\n",
    "\n",
    "def add_node(node_name):\n",
    "    if node_name not in G:\n",
    "        G.add_node(node_name)\n",
    "\n",
    "def add_edge_with_property(start_node, end_node, weight, type):\n",
    "    G.add_weighted_edges_from([(start_node, end_node, weight)])\n",
    "    G[start_node][end_node][\"type\"] = type\n",
    "\n",
    "\n",
    "with open(file_path+\"/../analyze/result/normal/edu_to_edu.csv\", \"r\") as file:\n",
    "    csv_reader = csv.reader(file, delimiter=',')\n",
    "    count = 0\n",
    "    for line in csv_reader:\n",
    "        if count == 0:\n",
    "            count += 1\n",
    "            continue\n",
    "        add_node(line[0])\n",
    "        add_node(line[1])\n",
    "        add_edge_with_property(line[0],line[1],line[2],\"edu_to_edu\")\n",
    "\n",
    "with open(file_path+\"/../analyze/result/normal/edu_to_work.csv\", \"r\") as file:\n",
    "    csv_reader = csv.reader(file, delimiter=',')\n",
    "    count = 0\n",
    "    for line in csv_reader:\n",
    "        if count == 0:\n",
    "            count += 1\n",
    "            continue\n",
    "        add_node(line[0])\n",
    "        add_node(line[1])\n",
    "        add_edge_with_property(line[0],line[1],line[2],\"edu_to_work\")\n",
    "\n",
    "with open(file_path+\"/../analyze/result/normal/work_to_work.csv\", \"r\") as file:\n",
    "    csv_reader = csv.reader(file, delimiter=',')\n",
    "    count = 0\n",
    "    for line in csv_reader:\n",
    "        if count == 0:\n",
    "            count += 1\n",
    "            continue\n",
    "        add_node(line[0])\n",
    "        add_node(line[1])\n",
    "        add_edge_with_property(line[0],line[1],line[2],\"work_to_work\")"
   ]
  }
 ],
 "metadata": {
  "kernelspec": {
   "display_name": "Python 3 (ipykernel)",
   "language": "python",
   "name": "python3"
  },
  "language_info": {
   "codemirror_mode": {
    "name": "ipython",
    "version": 3
   },
   "file_extension": ".py",
   "mimetype": "text/x-python",
   "name": "python",
   "nbconvert_exporter": "python",
   "pygments_lexer": "ipython3",
   "version": "3.9.10"
  }
 },
 "nbformat": 4,
 "nbformat_minor": 5
}
