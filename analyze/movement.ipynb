{
 "cells": [
  {
   "cell_type": "code",
   "execution_count": 13,
   "id": "31d66dd7",
   "metadata": {},
   "outputs": [],
   "source": [
    "import os, csv\n",
    "import networkx as nx\n",
    "G = nx.Graph()\n",
    "file_path = os.path.abspath('')\n",
    "\n",
    "def add_node(node_name):\n",
    "    if node_name not in G:\n",
    "        G.add_node(node_name)\n",
    "\n",
    "def add_edge_with_property(start_node, end_node, weight, type):\n",
    "    G.add_weighted_edges_from([(start_node, end_node, weight)])\n",
    "    G[start_node][end_node][\"type\"] = type\n",
    "\n",
    "\n",
    "with open(file_path+\"/../analyze/result/normal/edu_to_edu.csv\", \"r\") as file:\n",
    "    csv_reader = csv.reader(file, delimiter=',')\n",
    "    count = 0\n",
    "    for line in csv_reader:\n",
    "        if count == 0:\n",
    "            count += 1\n",
    "            continue\n",
    "        add_node(line[0])\n",
    "        add_node(line[1])\n",
    "        add_edge_with_property(line[0],line[1],line[2],\"edu_to_edu\")\n",
    "\n",
    "with open(file_path+\"/../analyze/result/normal/edu_to_work.csv\", \"r\") as file:\n",
    "    csv_reader = csv.reader(file, delimiter=',')\n",
    "    count = 0\n",
    "    for line in csv_reader:\n",
    "        if count == 0:\n",
    "            count += 1\n",
    "            continue\n",
    "        add_node(line[0])\n",
    "        add_node(line[1])\n",
    "        add_edge_with_property(line[0],line[1],line[2],\"edu_to_work\")\n",
    "\n",
    "with open(file_path+\"/../analyze/result/normal/work_to_work.csv\", \"r\") as file:\n",
    "    csv_reader = csv.reader(file, delimiter=',')\n",
    "    count = 0\n",
    "    for line in csv_reader:\n",
    "        if count == 0:\n",
    "            count += 1\n",
    "            continue\n",
    "        add_node(line[0])\n",
    "        add_node(line[1])\n",
    "        add_edge_with_property(line[0],line[1],line[2],\"work_to_work\")"
   ]
  }
 ],
 "metadata": {
  "kernelspec": {
   "display_name": "Python 3 (ipykernel)",
   "language": "python",
   "name": "python3"
  },
  "language_info": {
   "codemirror_mode": {
    "name": "ipython",
    "version": 3
   },
   "file_extension": ".py",
   "mimetype": "text/x-python",
   "name": "python",
   "nbconvert_exporter": "python",
   "pygments_lexer": "ipython3",
   "version": "3.9.10"
  }
 },
 "nbformat": 4,
 "nbformat_minor": 5
}
